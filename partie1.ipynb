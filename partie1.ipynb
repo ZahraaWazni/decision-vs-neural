{
 "cells": [
  {
   "cell_type": "markdown",
   "id": "952c71fe",
   "metadata": {},
   "source": [
    "# <p style=\"text-align: center;\"> Projet d'intelligence Artificielle 2023-2024 </p>"
   ]
  },
  {
   "cell_type": "markdown",
   "id": "87407bed",
   "metadata": {},
   "source": [
    "### <p style=\"text-align: center;\"> Licence 3 - UFR Mathématique - Informatique</p>"
   ]
  },
  {
   "cell_type": "markdown",
   "id": "77d55656",
   "metadata": {},
   "source": [
    "### <p style=\"text-align: center;\"> Réalisé en Binome par : PURSON-PASQUALINI Zoé & WAZNI Zahraa </p>"
   ]
  },
  {
   "cell_type": "markdown",
   "id": "05039b85",
   "metadata": {},
   "source": [
    "## 1. Préparation Des Données"
   ]
  },
  {
   "cell_type": "markdown",
   "id": "fea73575",
   "metadata": {},
   "source": [
    "### **Questions**"
   ]
  },
  {
   "cell_type": "markdown",
   "id": "ed1ea771",
   "metadata": {},
   "source": [
    "1. **Combien d’attributs comportent ces données ?**"
   ]
  },
  {
   "cell_type": "code",
   "execution_count": 13,
   "id": "13e3a7d2",
   "metadata": {},
   "outputs": [
    {
     "name": "stdout",
     "output_type": "stream",
     "text": [
      "Les données comportent 14 attributs.\n"
     ]
    }
   ],
   "source": [
    "import pandas as pd\n",
    "import numpy as np\n",
    "# Chargement du fichier comportant les données\n",
    "\n",
    "chemin_fichier = 'synthetic.csv'\n",
    "data = pd.read_csv(chemin_fichier)\n",
    "\n",
    "# Montrer les 10 premières lignes des données synthetiques\n",
    "data_head = data.head(5)\n",
    "# Donne le nombre d'attributs\n",
    "\n",
    "number_of_attributes = data.shape[1] - 1\n",
    "print(\"Les données comportent \" + str(number_of_attributes) + \" attributs.\")"
   ]
  },
  {
   "cell_type": "markdown",
   "id": "0e78553a",
   "metadata": {},
   "source": [
    "2. **En combien de classes différentes les instances sontelles catégorisées ?**"
   ]
  },
  {
   "cell_type": "code",
   "execution_count": 17,
   "id": "3834c8a7",
   "metadata": {},
   "outputs": [
    {
     "name": "stdout",
     "output_type": "stream",
     "text": [
      "Nous avons 4 classes uniques.\n"
     ]
    }
   ],
   "source": [
    "# Donne le nombre de classe\n",
    "unique_classes = data['Class'].nunique()\n",
    "print(\"Nous avons \" + str(unique_classes) + \" classes uniques.\")"
   ]
  },
  {
   "cell_type": "markdown",
   "id": "12f1e0ba",
   "metadata": {},
   "source": [
    "3. **Combien d’instances chaque classe compte-elle ?**"
   ]
  },
  {
   "cell_type": "code",
   "execution_count": 8,
   "id": "3a9e9b64",
   "metadata": {},
   "outputs": [
    {
     "data": {
      "text/plain": [
       "{1: 908, 0: 674, 2: 472, 3: 244}"
      ]
     },
     "execution_count": 8,
     "metadata": {},
     "output_type": "execute_result"
    }
   ],
   "source": [
    "# Get the instances count per class\n",
    "instances_per_class = data['Class'].value_counts().to_dict()\n",
    "instances_per_class"
   ]
  },
  {
   "cell_type": "markdown",
   "id": "5dea1542",
   "metadata": {},
   "source": [
    "4. **Les donnéees sont-elles linéairement séparables ?**\n"
   ]
  },
  {
   "cell_type": "code",
   "execution_count": 12,
   "id": "d47d0da9",
   "metadata": {},
   "outputs": [
    {
     "data": {
      "text/plain": [
       "{0: (array([0, 1, 2, 3], dtype=int64),\n",
       "  array([211, 265, 132,  77], dtype=int64)),\n",
       " 1: (array([0, 1, 2, 3], dtype=int64),\n",
       "  array([201, 278, 137,  71], dtype=int64)),\n",
       " 2: (array([0, 1, 2, 3], dtype=int64),\n",
       "  array([109, 142,  88,  41], dtype=int64)),\n",
       " 3: (array([0, 1, 2, 3], dtype=int64),\n",
       "  array([153, 223, 115,  55], dtype=int64))}"
      ]
     },
     "execution_count": 12,
     "metadata": {},
     "output_type": "execute_result"
    }
   ],
   "source": [
    "# Fonction pour initialiser les centroides\n",
    "def initialize_centroids(data, k):\n",
    "    return data[np.random.choice(data.shape[0], k, replace=False), :]\n",
    "\n",
    "# fonction pour assigner les clusters\n",
    "def assign_clusters(data, centroids):\n",
    "    distances = np.sqrt(((data - centroids[:, np.newaxis])**2).sum(axis=2))\n",
    "    return np.argmin(distances, axis=0)\n",
    "\n",
    "# fonction pour recalculer les centroides\n",
    "def recompute_centroids(data, assignments, k):\n",
    "    new_centroids = np.array([data[assignments == i].mean(axis=0) for i in range(k)])\n",
    "    return new_centroids\n",
    "\n",
    "# fonction pour verifier si les centroides  ont converger. \n",
    "def centroids_converged(old_centroids, new_centroids):\n",
    "    return np.all(old_centroids == new_centroids)\n",
    "\n",
    "# Fonction pour executer le K mean algorithme.\n",
    "def kmeans(data, k):\n",
    "    centroids = initialize_centroids(data, k)\n",
    "    while True:\n",
    "        old_centroids = centroids\n",
    "        assignments = assign_clusters(data, centroids)\n",
    "        centroids = recompute_centroids(data, assignments, k)\n",
    "        if centroids_converged(old_centroids, centroids):\n",
    "            break\n",
    "    return assignments, centroids\n",
    "\n",
    "# Données sans les étiquettes de classe\n",
    "data_features = data.drop('Class', axis=1).values\n",
    "\n",
    "# Ici , on execute K-means avec un K= 4\n",
    "assignments, centroids = kmeans(data_features, 4)\n",
    "\n",
    "# Vérification de la pureté des clusters formés\n",
    "# Création d'une liste d'étiquettes correspondant aux attributions pour vérifier la pureté\n",
    "assigned_labels = data['Class'].values[np.argsort(assignments)]\n",
    "\n",
    "# Compter les occurrences de chaque étiquette de classe dans chaque cluster\n",
    "cluster_labels = {}\n",
    "for i in range(len(centroids)):\n",
    "    cluster_labels[i] = np.unique(assigned_labels[assignments == i], return_counts=True)\n",
    "\n",
    "cluster_labels"
   ]
  },
  {
   "cell_type": "markdown",
   "id": "79e8fe5c",
   "metadata": {},
   "source": [
    "## 2.  Mise en œuvre des modèles\n"
   ]
  },
  {
   "cell_type": "markdown",
   "id": "2c6b3ed8",
   "metadata": {},
   "source": [
    "### 2.1 Arbre de décision"
   ]
  },
  {
   "cell_type": "markdown",
   "id": "2e7f6d46",
   "metadata": {},
   "source": [
    "Le code Python suivant implémente un arbre de décision. L'objectif est d'entraîner plusieurs arbres avec différentes profondeurs (entre 3 et 8), et évaluer leurs performances en utilisant les métriques qu'on a vu en cours (Recall, Accuracy, Precision et F1-Score). Les meilleurs modèles sont sélectionnés en fonction du score F1, une mesure combinée de la précision et du rappel."
   ]
  },
  {
   "cell_type": "code",
   "execution_count": 26,
   "id": "4c46df0f",
   "metadata": {},
   "outputs": [
    {
     "name": "stdout",
     "output_type": "stream",
     "text": [
      "Results: \n",
      "Depth: 7, Accuracy: 0.7782608695652173, Recall: 0.7348929168776778, Precision: 0.7546138473126885, F1-score: 0.743055926277554\n",
      "Depth: 6, Accuracy: 0.7739130434782608, Recall: 0.7196933138512458, Precision: 0.7469277401342618, F1-score: 0.7293233865735403\n",
      "Depth: 8, Accuracy: 0.7543478260869565, Recall: 0.6862535514148387, Precision: 0.7193600313873736, F1-score: 0.6982864425538191\n",
      "Depth: 5, Accuracy: 0.7521739130434782, Recall: 0.6770213383121677, Precision: 0.6990583569471809, F1-score: 0.6821611185244343\n",
      "Depth: 4, Accuracy: 0.7108695652173913, Recall: 0.6126179660876232, Precision: 0.6626904288006297, F1-score: 0.6174732753658847\n",
      "Depth: 3, Accuracy: 0.6478260869565218, Recall: 0.5344552366770453, Precision: 0.4736023759608665, F1-score: 0.4992296048768129\n"
     ]
    }
   ],
   "source": [
    "# panda et numpy sont importés plus haut\n",
    "from sklearn.model_selection import train_test_split\n",
    "\n",
    "## Définition de la classe DecisionTree pour créer et manipuler des arbres de décision\n",
    "class DecisionTree:\n",
    "    def __init__(self, attribute=None, split_value=None, left_branch=None, right_branch=None, prediction=None, is_leaf=False):\n",
    "        self.attribute = attribute\n",
    "        self.split_value = split_value\n",
    "        self.left_branch = left_branch\n",
    "        self.right_branch = right_branch\n",
    "        self.prediction = prediction\n",
    "        self.is_leaf = is_leaf\n",
    "    \n",
    "    # Fonction pour retourner le résultat du noeud sous forme de chaîne de caractères\n",
    "    def node_result(self, spacing=''):\n",
    "        s = ''\n",
    "        for v in range(len(self.prediction.values)):\n",
    "            s += f' Class {self.prediction.index[v]} Count: {self.prediction.values[v]}\\n{spacing}'\n",
    "        return s\n",
    "\n",
    "# Fonction pour calculer l'entropie d'une colonne cible\n",
    "def entropy(target_col):\n",
    "    elements, counts = np.unique(target_col, return_counts=True)\n",
    "    return np.sum([(-counts[i] / np.sum(counts)) * np.log2(counts[i] / np.sum(counts)) for i in range(len(elements))])\n",
    "\n",
    "# Fonction pour trouver la meilleure division en utilisant les quartiles des attributs\n",
    "def best_split_using_quartiles(data, attributes, target_name):\n",
    "    total_entropy = entropy(data[target_name])\n",
    "    best_attribute = None\n",
    "    best_quartile_value = None\n",
    "    best_ig = 0\n",
    "    best_partitions = None\n",
    "    \n",
    "    for attr in attributes:\n",
    "        quartiles = data[attr].quantile([0.25, 0.5, 0.75]).values\n",
    "        for q in quartiles:\n",
    "            data_below = data[data[attr] <= q]\n",
    "            data_above = data[data[attr] > q]\n",
    "            below_entropy = entropy(data_below[target_name])\n",
    "            above_entropy = entropy(data_above[target_name])\n",
    "            weighted_entropy = ((len(data_below) / len(data)) * below_entropy) + ((len(data_above) / len(data)) * above_entropy)\n",
    "            ig = total_entropy - weighted_entropy\n",
    "            if ig > best_ig:\n",
    "                best_ig = ig\n",
    "                best_attribute = attr\n",
    "                best_quartile_value = q\n",
    "                best_partitions = (data_below, data_above)\n",
    "    \n",
    "    return best_attribute, best_quartile_value, best_partitions\n",
    "\n",
    "# Fonction pour construire un arbre de décision\n",
    "def build_tree(data, target_name, attributes, depth, max_depth):\n",
    "    if depth == max_depth or not attributes or data.empty:\n",
    "        prediction = data[target_name].value_counts(normalize=True)\n",
    "        return DecisionTree(prediction=prediction, is_leaf=True)\n",
    "    \n",
    "    attribute, split, partitions = best_split_using_quartiles(data, attributes, target_name)\n",
    "    if not partitions:\n",
    "        prediction = data[target_name].value_counts(normalize=True)\n",
    "        return DecisionTree(prediction=prediction, is_leaf=True)\n",
    "    \n",
    "    attributes = [attr for attr in attributes if attr != attribute]\n",
    "    left_branch = build_tree(partitions[0], target_name, attributes, depth+1, max_depth)\n",
    "    right_branch = build_tree(partitions[1], target_name, attributes, depth+1, max_depth)\n",
    "    \n",
    "    return DecisionTree(attribute, split, left_branch, right_branch, data[target_name].value_counts(normalize=True))\n",
    "\n",
    "# Fonction pour prédire la classe d'une instance en utilisant l'arbre\n",
    "def predict(tree, instance):\n",
    "    if tree.is_leaf:\n",
    "        return tree.prediction.idxmax()\n",
    "    if instance[tree.attribute] <= tree.split_value:\n",
    "        return predict(tree.left_branch, instance)\n",
    "    else:\n",
    "        return predict(tree.right_branch, instance)\n",
    "\n",
    "# Fonction pour prédire la classe de toutes les instances dans un ensemble de données\n",
    "def predict_all(tree, data):\n",
    "    return data.apply(lambda x: predict(tree, x), axis=1)\n",
    "\n",
    "# Fonction pour calculer l'exactitude des prédictions\n",
    "def calculate_accuracy(y_true, y_pred):\n",
    "    correct = (y_true == y_pred).sum()\n",
    "    total = len(y_true)\n",
    "    return correct / total\n",
    "\n",
    "# Fonction pour calculer la précision, le rappel et le score F1\n",
    "def calculate_precision_recall_f1(y_true, y_pred):\n",
    "    unique_classes = np.unique(y_true)\n",
    "    recall_sum = 0\n",
    "    precision_sum = 0\n",
    "    f1_sum = 0\n",
    "    for class_val in unique_classes:\n",
    "        true_positives = ((y_pred == class_val) & (y_true == class_val)).sum()\n",
    "        false_positives = ((y_pred == class_val) & (y_true != class_val)).sum()\n",
    "        false_negatives = ((y_pred != class_val) & (y_true == class_val)).sum()\n",
    "        \n",
    "        recall = true_positives / (true_positives + false_negatives) if (true_positives + false_negatives) > 0 else 0\n",
    "        precision = true_positives / (true_positives + false_positives) if (true_positives + false_positives) > 0 else 0\n",
    "        f1 = 2 * (precision * recall) / (precision + recall) if (precision + recall) > 0 else 0\n",
    "        \n",
    "        recall_sum += recall\n",
    "        precision_sum += precision\n",
    "        f1_sum += f1\n",
    "    \n",
    "    # Calcul des moyennes pondérées\n",
    "    weighted_recall = recall_sum / len(unique_classes)\n",
    "    weighted_precision = precision_sum / len(unique_classes)\n",
    "    weighted_f1 = f1_sum / len(unique_classes)\n",
    "    \n",
    "    return weighted_precision, weighted_recall, weighted_f1\n",
    "\n",
    "# Fonction pour évaluer un arbre sur un ensemble de données de test\n",
    "def evaluate_custom(tree, test_data, target_name):\n",
    "    y_true = test_data[target_name].values\n",
    "    y_pred = predict_all(tree, test_data.drop(columns=[target_name])).values\n",
    "    accuracy = calculate_accuracy(y_true, y_pred)\n",
    "    precision, recall, f1 = calculate_precision_recall_f1(y_true, y_pred)\n",
    "    return accuracy, recall, precision, f1\n",
    "\n",
    "# Chargement et division des données\n",
    "data = pd.read_csv('synthetic.csv')\n",
    "target_name = 'Class'\n",
    "attributes = [col for col in data.columns if col != target_name]\n",
    "train_data, test_data = train_test_split(data, test_size=0.2, random_state=42)\n",
    "\n",
    "# Entraînement des arbres avec différentes profondeurs et évaluation avec les métriques. \n",
    "results = []\n",
    "for depth in range(3, 9):\n",
    "    tree = build_tree(train_data, target_name, attributes, 0, depth)\n",
    "    # print(\"depth: \" + str(depth))\n",
    "    # print_tree(tree)\n",
    "    metrics = evaluate_custom(tree, test_data, target_name)\n",
    "    results.append((depth, metrics))\n",
    "\n",
    "# Trouver les deux meilleurs modèles basés sur le score F1\n",
    "sorted_results = sorted(results, key=lambda x: x[1][3], reverse=True)  # Sort by F1-score\n",
    "best_two_models = sorted_results[:2]\n",
    "\n",
    "print(\"Results: \")\n",
    "for depth, (accuracy, recall, precision, f1) in sorted_results:\n",
    "    print(f\"Depth: {depth}, Accuracy: {accuracy}, Recall: {recall}, Precision: {precision}, F1-score: {f1}\")"
   ]
  },
  {
   "cell_type": "markdown",
   "id": "2b75cd23",
   "metadata": {},
   "source": [
    "On peut déduire que l'arbre avec une profondeur de 7 donne les meilleures performances globales avec un score F1 de 0.743, une exactitude de 0.778, un rappel de 0.735 et une précision de 0.755. Cela suggère que cet arbre a un bon équilibre entre prévenir le surapprentissage et capturer suffisamment de complexité dans les données pour faire des prédictions précises."
   ]
  },
  {
   "cell_type": "markdown",
   "id": "7b5a2b9c",
   "metadata": {},
   "source": [
    "### 2.2 Réseaux de neurones artificiels\n"
   ]
  },
  {
   "cell_type": "code",
   "execution_count": 33,
   "id": "69b66a7a",
   "metadata": {
    "scrolled": false
   },
   "outputs": [
    {
     "name": "stdout",
     "output_type": "stream",
     "text": [
      "Epoch 1, Training Loss: 1.4298106711572771, Validation Loss: 1.3538760120287023\n",
      "Epoch 2, Training Loss: 1.336628522851221, Validation Loss: 1.2732551301929755\n",
      "Epoch 3, Training Loss: 1.3183981780471712, Validation Loss: 1.263569398674918\n",
      "Epoch 4, Training Loss: 1.3127450215596612, Validation Loss: 1.259639378500683\n",
      "Epoch 5, Training Loss: 1.3096199870472949, Validation Loss: 1.2573717211936557\n",
      "Epoch 6, Training Loss: 1.3076143562816935, Validation Loss: 1.2558546790558507\n",
      "Epoch 7, Training Loss: 1.3062153367383103, Validation Loss: 1.2547608051130459\n",
      "Epoch 8, Training Loss: 1.3051836104826036, Validation Loss: 1.2539337932275205\n",
      "Epoch 9, Training Loss: 1.304391384789731, Validation Loss: 1.2532866583759625\n",
      "Epoch 10, Training Loss: 1.303764011628859, Validation Loss: 1.2527665848962184\n",
      "Epoch 11, Training Loss: 1.3032549352318323, Validation Loss: 1.2523395734506964\n",
      "Epoch 12, Training Loss: 1.3028336125447173, Validation Loss: 1.251982744222175\n",
      "Epoch 13, Training Loss: 1.30247917571239, Validation Loss: 1.2516801387700616\n",
      "Epoch 14, Training Loss: 1.302176883543312, Validation Loss: 1.2514202897198268\n",
      "Epoch 15, Training Loss: 1.3019160276873043, Validation Loss: 1.2511947464273303\n",
      "Epoch 16, Training Loss: 1.301688642342997, Validation Loss: 1.2509971451416373\n",
      "Epoch 17, Training Loss: 1.3014886794265348, Validation Loss: 1.2508226028347267\n",
      "Epoch 18, Training Loss: 1.3013114644539445, Validation Loss: 1.2506673105576758\n",
      "Epoch 19, Training Loss: 1.301153327684962, Validation Loss: 1.2505282537368836\n",
      "Epoch 20, Training Loss: 1.3010113480364005, Validation Loss: 1.250403015493881\n",
      "Epoch 21, Training Loss: 1.3008831715004652, Validation Loss: 1.2502896356090156\n",
      "Epoch 22, Training Loss: 1.3007668799537244, Validation Loss: 1.2501865075991687\n",
      "Epoch 23, Training Loss: 1.3006608947666822, Validation Loss: 1.2500923024164392\n",
      "Epoch 24, Training Loss: 1.3005639049020639, Validation Loss: 1.2500059110702468\n",
      "Epoch 25, Training Loss: 1.30047481253964, Validation Loss: 1.2499264009171285\n",
      "Epoch 26, Training Loss: 1.3003926914388877, Validation Loss: 1.2498529819664599\n",
      "Epoch 27, Training Loss: 1.3003167546897065, Validation Loss: 1.249784980624016\n",
      "Epoch 28, Training Loss: 1.3002463294715603, Validation Loss: 1.2497218190265287\n",
      "Epoch 29, Training Loss: 1.3001808371065708, Validation Loss: 1.2496629986263708\n",
      "Epoch 30, Training Loss: 1.3001197771551596, Validation Loss: 1.2496080870407225\n",
      "Epoch 31, Training Loss: 1.3000627146298083, Validation Loss: 1.2495567074323568\n",
      "Epoch 32, Training Loss: 1.300009269636429, Validation Loss: 1.249508529871325\n",
      "Epoch 33, Training Loss: 1.2999591089222033, Validation Loss: 1.2494632642595551\n",
      "Epoch 34, Training Loss: 1.2999119389327862, Validation Loss: 1.2494206544982192\n",
      "Epoch 35, Training Loss: 1.2998675000735607, Validation Loss: 1.2493804736505125\n",
      "Epoch 36, Training Loss: 1.2998255619382062, Validation Loss: 1.249342519907187\n",
      "Epoch 37, Training Loss: 1.2997859193195942, Validation Loss: 1.2493066132036335\n",
      "Epoch 38, Training Loss: 1.2997483888573647, Validation Loss: 1.2492725923690111\n",
      "Epoch 39, Training Loss: 1.2997128062067158, Validation Loss: 1.2492403127123097\n",
      "Epoch 40, Training Loss: 1.2996790236362783, Validation Loss: 1.2492096439691889\n",
      "Epoch 41, Training Loss: 1.2996469079810793, Validation Loss: 1.2491804685482244\n",
      "Epoch 42, Training Loss: 1.2996163388908428, Validation Loss: 1.24915268002685\n",
      "Epoch 43, Training Loss: 1.29958720732509, Validation Loss: 1.249126181856485\n",
      "Epoch 44, Training Loss: 1.2995594142554063, Validation Loss: 1.2491008862436792\n",
      "Epoch 45, Training Loss: 1.299532869542358, Validation Loss: 1.2490767131799885\n",
      "Epoch 46, Training Loss: 1.2995074909602395, Validation Loss: 1.2490535895980244\n",
      "Epoch 47, Training Loss: 1.2994832033474406, Validation Loss: 1.2490314486349248\n",
      "Epoch 48, Training Loss: 1.299459937863956, Validation Loss: 1.2490102289876517\n",
      "Epoch 49, Training Loss: 1.2994376313406015, Validation Loss: 1.2489898743470171\n",
      "Epoch 50, Training Loss: 1.2994162257069857, Validation Loss: 1.2489703328994535\n"
     ]
    },
    {
     "data": {
      "image/png": "[encoded data removed]",
      "text/plain": [
       "<Figure size 640x480 with 1 Axes>"
      ]
     },
     "metadata": {},
     "output_type": "display_data"
    }
   ],
   "source": [
    "from scipy.special import softmax\n",
    "from numpy.random import seed\n",
    "\n",
    "class NeuralNetwork:\n",
    "    def __init__(self, layer_sizes, activation='relu', learning_rate=0.01, epochs=50, dropout_rate=0.0):\n",
    "        self.layer_sizes = layer_sizes\n",
    "        self.activation = activation\n",
    "        self.learning_rate = learning_rate\n",
    "        self.epochs = epochs\n",
    "        self.dropout_rate = dropout_rate\n",
    "        self.weights = []\n",
    "        self.biases = []\n",
    "        self._initialize_weights()\n",
    "\n",
    "    def _initialize_weights(self):\n",
    "        np.random.seed(42)  # for reproducibility\n",
    "        for i in range(len(self.layer_sizes) - 1):\n",
    "            limit = np.sqrt(2 / self.layer_sizes[i])  # He initialization for ReLU\n",
    "            weight = np.random.normal(0, limit, (self.layer_sizes[i+1], self.layer_sizes[i]))\n",
    "            bias = np.zeros((self.layer_sizes[i+1], 1))\n",
    "            self.weights.append(weight)\n",
    "            self.biases.append(bias)\n",
    "    \n",
    "    def _forward_prop(self, X):\n",
    "        A = X\n",
    "        activations = [A]\n",
    "        for i in range(len(self.weights)):\n",
    "            Z = np.dot(self.weights[i], A) + self.biases[i]\n",
    "            if i < len(self.weights) - 1:\n",
    "                A = np.tanh(Z) if self.activation == 'tanh' else np.maximum(0, Z)\n",
    "            else:\n",
    "                A = softmax(Z, axis=0)\n",
    "            activations.append(A)\n",
    "        return activations[-1], activations\n",
    "\n",
    "    def _backward_prop(self, X, y, activations):\n",
    "        L = len(self.weights) - 1\n",
    "        y_one_hot = np.zeros((self.layer_sizes[-1], 1))\n",
    "        y_one_hot[y, 0] = 1\n",
    "        delta = activations[-1] - y_one_hot\n",
    "        deltas = [delta]\n",
    "\n",
    "        for i in range(L, 0, -1):\n",
    "            delta = np.dot(self.weights[i].T, delta) * (1 - activations[i]**2 if self.activation == 'tanh' else (activations[i] > 0))\n",
    "            deltas.insert(0, delta)\n",
    "\n",
    "        for i in range(L + 1):\n",
    "            dW = np.dot(deltas[i], activations[i].T)\n",
    "            db = deltas[i]\n",
    "            self.weights[i] -= self.learning_rate * dW\n",
    "            self.biases[i] -= self.learning_rate * db\n",
    "\n",
    "    def train(self, X_train, y_train, X_val, y_val, patience=10):\n",
    "        training_losses = []\n",
    "        validation_losses = []\n",
    "        best_val_loss = float('inf')\n",
    "        best_weights = []\n",
    "        best_biases = []\n",
    "        epochs_no_improve = 0\n",
    "\n",
    "        for epoch in range(self.epochs):\n",
    "            epoch_losses = []\n",
    "            for i in range(len(X_train)):\n",
    "                X_i = X_train[i:i+1].T\n",
    "                y_i = y_train[i]\n",
    "                output, activations = self._forward_prop(X_i)\n",
    "                self._backward_prop(X_i, y_i, activations)\n",
    "                loss = -np.log(output[y_i] + 1e-9)  # Cross-entropy loss\n",
    "                epoch_losses.append(loss)\n",
    "\n",
    "            training_loss = np.mean(epoch_losses)\n",
    "            training_losses.append(training_loss)\n",
    "\n",
    "            # Calculate validation loss\n",
    "            val_losses = []\n",
    "            for i in range(len(X_val)):\n",
    "                X_i = X_val[i:i+1].T\n",
    "                y_i = y_val[i]\n",
    "                output, _ = self._forward_prop(X_i)\n",
    "                val_loss = -np.log(output[y_i] + 1e-9)\n",
    "                val_losses.append(val_loss)\n",
    "\n",
    "            validation_loss = np.mean(val_losses)\n",
    "            validation_losses.append(validation_loss)\n",
    "\n",
    "            # Early stopping logic\n",
    "            if validation_loss < best_val_loss:\n",
    "                best_val_loss = validation_loss\n",
    "                best_weights = [w.copy() for w in self.weights]\n",
    "                best_biases = [b.copy() for b in self.biases]\n",
    "                epochs_no_improve = 0\n",
    "            else:\n",
    "                epochs_no_improve += 1\n",
    "\n",
    "            if epochs_no_improve >= patience:\n",
    "                print(f'Early stopping at epoch {epoch + 1}')\n",
    "                self.weights = best_weights\n",
    "                self.biases = best_biases\n",
    "                break\n",
    "\n",
    "            print(f'Epoch {epoch+1}, Training Loss: {training_loss}, Validation Loss: {validation_loss}')\n",
    "\n",
    "        return training_losses, validation_losses\n",
    "\n",
    "# Initialize and train the neural network\n",
    "nn = NeuralNetwork([X_train.shape[1], 20, 15, 10, 5], activation='relu', learning_rate=0.01, epochs=50, dropout_rate=0.1)\n",
    "training_losses, validation_losses = nn.train(X_train.to_numpy(), y_train_np, X_val.to_numpy(), y_val_np)\n",
    "\n",
    "# Plotting the training and validation loss curves\n",
    "plt.plot(training_losses, label='Training Loss')\n",
    "plt.plot(validation_losses, label='Validation Loss')\n",
    "plt.xlabel('Epochs')\n",
    "plt.ylabel('Loss')\n",
    "plt.legend()\n",
    "plt.show()"
   ]
  },
  {
   "cell_type": "markdown",
   "id": "f0be9e35",
   "metadata": {},
   "source": [
    "## 3 Analyse des modèles"
   ]
  },
  {
   "cell_type": "markdown",
   "id": "581821de",
   "metadata": {},
   "source": [
    "Voici le code qui nous permet de transformer nos données en matrice de confusion pour chaque modèle. Le code suivant donne l'example de celui du fichier y_pred_NN_tanh_10-8-6.csv."
   ]
  },
  {
   "cell_type": "code",
   "execution_count": 69,
   "id": "899b484b",
   "metadata": {},
   "outputs": [
    {
     "name": "stdout",
     "output_type": "stream",
     "text": [
      "Confusion Matrix:\n",
      "[[144   5   1   6]\n",
      " [  0 162   2   2]\n",
      " [  3   4  81   1]\n",
      " [  2  10   5  32]]\n"
     ]
    }
   ],
   "source": [
    "import pandas as pd\n",
    "import numpy as np\n",
    "\n",
    "def load_data(pred_path, test_path):\n",
    "    pred_path = \"y_pred_NN_tanh_10-8-6.csv\"\n",
    "    test_path = \"y_test.csv\"\n",
    "    # Load the prediction probabilities and actual labels\n",
    "    y_pred_probs = pd.read_csv(pred_path, header=None)\n",
    "    y_test = pd.read_csv(test_path, header=None)\n",
    "    return y_pred_probs, y_test\n",
    "\n",
    "def construct_confusion_matrix(y_pred_probs, y_test):\n",
    "    # Convert probabilities to class predictions\n",
    "    y_pred = y_pred_probs.idxmax(axis=1)\n",
    "    \n",
    "    # Number of classes\n",
    "    num_classes = len(y_pred_probs.columns)\n",
    "    \n",
    "    # Create an empty confusion matrix\n",
    "    cm = np.zeros((num_classes, num_classes), dtype=int)\n",
    "    \n",
    "    # Populate the confusion matrix\n",
    "    for true_class, pred_class in zip(y_test[0], y_pred):\n",
    "        cm[true_class][pred_class] += 1\n",
    "    \n",
    "    return cm\n",
    "\n",
    "# Paths to the files\n",
    "pred_path = 'predictions/y_pred_NN_tanh_10-8-6.csv'\n",
    "test_path = 'predictions/y_test.csv'\n",
    "\n",
    "# Load data\n",
    "y_pred_probs, y_test = load_data(pred_path, test_path)\n",
    "\n",
    "# Construct the confusion matrix\n",
    "confusion_matrix = construct_confusion_matrix(y_pred_probs, y_test)\n",
    "\n",
    "# Print the confusion matrix\n",
    "print(\"Confusion Matrix:\")\n",
    "print(confusion_matrix)\n"
   ]
  },
  {
   "cell_type": "markdown",
   "id": "f3094c6f",
   "metadata": {},
   "source": [
    "A travers notre matrice de confusion, nous pouvons désormais l'utiliser pour calculer les métriques tel que le recall, accuracy, precision et le F1-score. Le code qui nous aide a faire cela est le suivant : "
   ]
  },
  {
   "cell_type": "code",
   "execution_count": 66,
   "id": "466d517b",
   "metadata": {},
   "outputs": [],
   "source": [
    "def calculate_metrics(cm):\n",
    "    num_classes = cm.shape[0]\n",
    "    accuracy = np.trace(cm) / np.sum(cm)\n",
    "    precision = np.zeros(num_classes)\n",
    "    recall = np.zeros(num_classes)\n",
    "    f1_score = np.zeros(num_classes)\n",
    "\n",
    "    for i in range(num_classes):\n",
    "        tp = cm[i, i]  # True Positive\n",
    "        fp = np.sum(cm[:, i]) - tp  # False Positive\n",
    "        fn = np.sum(cm[i, :]) - tp  # False Negative\n",
    "\n",
    "        precision[i] = tp / (tp + fp) if (tp + fp) > 0 else 0\n",
    "        recall[i] = tp / (tp + fn) if (tp + fn) > 0 else 0\n",
    "        if (precision[i] + recall[i]) > 0:\n",
    "            f1_score[i] = 2 * precision[i] * recall[i] / (precision[i] + recall[i])\n",
    "        else:\n",
    "            f1_score[i] = 0\n",
    "\n",
    "    return accuracy, precision, recall, f1_score"
   ]
  },
  {
   "cell_type": "code",
   "execution_count": 67,
   "id": "42a5c371",
   "metadata": {},
   "outputs": [
    {
     "name": "stdout",
     "output_type": "stream",
     "text": [
      "Accuracy: 83.26%\n",
      "Precision per Class: ['84.24%', '86.84%', '75.24%', '0.00%']\n",
      "Recall per Class: ['89.10%', '99.40%', '88.76%', '0.00%']\n",
      "F1-Score per Class: ['86.60%', '92.70%', '81.44%', '0.00%']\n"
     ]
    }
   ],
   "source": [
    "# Example avec le model y_pred_NN_tanh_10-8-6 :\n",
    "cm_example = confusion_matrix\n",
    "\n",
    "accuracy, precision, recall, f1_score = calculate_metrics(cm_example)\n",
    "\n",
    "# Print the metrics for each class\n",
    "# Print the metrics for each class as percentages\n",
    "print(\"Accuracy: {:.2f}%\".format(accuracy * 100))\n",
    "print(\"Precision per Class:\", [\"{:.2f}%\".format(p * 100) for p in precision])\n",
    "print(\"Recall per Class:\", [\"{:.2f}%\".format(r * 100) for r in recall])\n",
    "print(\"F1-Score per Class:\", [\"{:.2f}%\".format(f * 100) for f in f1_score])"
   ]
  },
  {
   "cell_type": "markdown",
   "id": "7b0526e8",
   "metadata": {},
   "source": [
    "Cette partie la est pour transformer les modèles d'arbres de decisions"
   ]
  },
  {
   "cell_type": "code",
   "execution_count": 77,
   "id": "9f2fcd76",
   "metadata": {},
   "outputs": [
    {
     "name": "stdout",
     "output_type": "stream",
     "text": [
      "Confusion Matrix:\n",
      "[[130  14  10   2]\n",
      " [  9 147   3   7]\n",
      " [  9   7  71   2]\n",
      " [  5   7  11  26]]\n"
     ]
    }
   ],
   "source": [
    "import pandas as pd\n",
    "import numpy as np\n",
    "\n",
    "def load_data(pred_path, test_path):\n",
    "    pred_path = \"y_pred_DT6.csv\"\n",
    "    test_path = \"y_test.csv\"\n",
    "    # Load the prediction labels and actual labels\n",
    "    y_pred = pd.read_csv(pred_path, header=None)\n",
    "    y_test = pd.read_csv(test_path, header=None)\n",
    "    return y_pred, y_test\n",
    "\n",
    "def construct_confusion_matrix(y_pred, y_test):\n",
    "    # Identify all unique classes in the actual labels to determine matrix size\n",
    "    classes = np.unique(y_test)\n",
    "    num_classes = len(classes)\n",
    "    class_index = {k: i for i, k in enumerate(classes)}\n",
    "    \n",
    "    # Create an empty confusion matrix\n",
    "    cm = np.zeros((num_classes, num_classes), dtype=int)\n",
    "    \n",
    "    # Populate the confusion matrix\n",
    "    for true_class, pred_class in zip(y_test[0], y_pred[0]):\n",
    "        cm[class_index[true_class]][class_index[pred_class]] += 1\n",
    "    \n",
    "    return cm\n",
    "\n",
    "# Paths to the files\n",
    "pred_path = 'predictions/y_pred_DT4.csv'\n",
    "test_path = 'predictions/y_test.csv'\n",
    "\n",
    "# Load data\n",
    "y_pred, y_test = load_data(pred_path, test_path)\n",
    "\n",
    "# Construct the confusion matrix\n",
    "confusion_matrix2 = construct_confusion_matrix(y_pred, y_test)\n",
    "\n",
    "# Print the confusion matrix\n",
    "print(\"Confusion Matrix:\")\n",
    "print(confusion_matrix2)\n"
   ]
  },
  {
   "cell_type": "code",
   "execution_count": 78,
   "id": "abe033c9",
   "metadata": {},
   "outputs": [
    {
     "name": "stdout",
     "output_type": "stream",
     "text": [
      "Accuracy: 81.30%\n",
      "Precision per Class: ['84.97%', '84.00%', '74.74%', '70.27%']\n",
      "Recall per Class: ['83.33%', '88.55%', '79.78%', '53.06%']\n",
      "F1-Score per Class: ['84.14%', '86.22%', '77.17%', '60.47%']\n"
     ]
    }
   ],
   "source": [
    "#On calculs les métriques pour les models avec l'arbre de désicions ici\n",
    "# Example avec le model y_pred_DT4.csv :\n",
    "cm_example = confusion_matrix2\n",
    "\n",
    "accuracy, precision, recall, f1_score = calculate_metrics(cm_example)\n",
    "\n",
    "# Print the metrics for each class\n",
    "# Print the metrics for each class as percentages\n",
    "print(\"Accuracy: {:.2f}%\".format(accuracy * 100))\n",
    "print(\"Precision per Class:\", [\"{:.2f}%\".format(p * 100) for p in precision])\n",
    "print(\"Recall per Class:\", [\"{:.2f}%\".format(r * 100) for r in recall])\n",
    "print(\"F1-Score per Class:\", [\"{:.2f}%\".format(f * 100) for f in f1_score])"
   ]
  }
 ],
 "metadata": {
  "kernelspec": {
   "display_name": "Python 3 (ipykernel)",
   "language": "python",
   "name": "python3"
  },
  "language_info": {
   "codemirror_mode": {
    "name": "ipython",
    "version": 3
   },
   "file_extension": ".py",
   "mimetype": "text/x-python",
   "name": "python",
   "nbconvert_exporter": "python",
   "pygments_lexer": "ipython3",
   "version": "3.9.13"
  }
 },
 "nbformat": 4,
 "nbformat_minor": 5
}
